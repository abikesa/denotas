{
 "cells": [
  {
   "cell_type": "markdown",
   "metadata": {},
   "source": []
  },
  {
   "cell_type": "markdown",
   "metadata": {},
   "source": [
    "## 08/01/2023\n",
    "\n",
    "### 825. [undergrads](https://jhutrc.github.io/fenagas/content/dramatispersonae/undergraduates.html)"
   ]
  },
  {
   "cell_type": "code",
   "execution_count": 1,
   "metadata": {
    "tags": [
     "hide-input"
    ]
   },
   "outputs": [
    {
     "name": "stdout",
     "output_type": "stream",
     "text": [
      "Number     Name                          \n",
      "1          Yolanda Dominguez             \n",
      "2          David Porter                  \n",
      "3          Lori Jones                    \n",
      "4          Jenna Gill                    \n",
      "5          Sean Robinson                 \n",
      "6          Jody Vargas                   \n",
      "7          Susan Graham                  \n",
      "8          William Stewart               \n",
      "9          Austin Church                 \n",
      "10         Michael Chen                  \n"
     ]
    }
   ],
   "source": [
    "from faker import Faker\n",
    "\n",
    "def generate_random_names(num_names):\n",
    "    fake = Faker()\n",
    "    names = [[fake.first_name(), fake.last_name()] for _ in range(num_names)]\n",
    "    return names\n",
    "\n",
    "def create_table(names):\n",
    "    header = [\"Number\", \"Name\"]\n",
    "    table = []\n",
    "    table.append(header)\n",
    "    for idx, name in enumerate(names, start=1):\n",
    "        full_name = \" \".join(name)\n",
    "        row = [idx, full_name]\n",
    "        table.append(row)\n",
    "\n",
    "    # Printing the table\n",
    "    for row in table:\n",
    "        print(f\"{row[0]:<10} {row[1]:<30}\")\n",
    "\n",
    "# Generate 10 random names and call the function\n",
    "random_names = generate_random_names(10)\n",
    "create_table(random_names)\n"
   ]
  },
  {
   "cell_type": "markdown",
   "metadata": {},
   "source": [
    "### 826. graçias &#128591;\n",
    "\n",
    "+ beta version of the fenagas webapp is up & running\n",
    "+ andrew & fawaz will be first to test it\n",
    "+ consider rolling it out to faculty in department \n",
    "+ philosophe, elliot, betsy, and with residents\n",
    "\n",
    "### 827. fenagas\n",
    "\n",
    "+ let ai say about `fena` \"annuŋŋamya mu makubo ago butukirivu\"\n",
    "+ ai can't produce such nuance on its own\n",
    "+ but, guided, it can"
   ]
  }
 ],
 "metadata": {
  "kernelspec": {
   "display_name": "Python 3",
   "language": "python",
   "name": "python3"
  },
  "language_info": {
   "codemirror_mode": {
    "name": "ipython",
    "version": 3
   },
   "file_extension": ".py",
   "mimetype": "text/x-python",
   "name": "python",
   "nbconvert_exporter": "python",
   "pygments_lexer": "ipython3",
   "version": "3.11.2"
  }
 },
 "nbformat": 4,
 "nbformat_minor": 2
}