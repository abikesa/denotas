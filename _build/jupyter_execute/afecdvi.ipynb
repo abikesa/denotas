{
 "cells": [
  {
   "cell_type": "markdown",
   "metadata": {},
   "source": [
    "# bloc de notas\n",
    "\n",
    "## created at 7:44AM on 07/19/2023\n",
    "\n",
    "### quick & dirty python & ai code trials & general natural language notes\n",
    "\n",
    "1. just got the idea to create a quick (workdir) & dirty (repo) book\n",
    "2. should be able to facilitate real-time dialogue\n",
    "3. lets seperate this be afecdvi.github.io"
   ]
  }
 ],
 "metadata": {
  "language_info": {
   "codemirror_mode": {
    "name": "ipython",
    "version": 3
   },
   "file_extension": ".py",
   "mimetype": "text/x-python",
   "name": "python",
   "nbconvert_exporter": "python",
   "pygments_lexer": "ipython3",
   "version": "3.11.2"
  }
 },
 "nbformat": 4,
 "nbformat_minor": 2
}