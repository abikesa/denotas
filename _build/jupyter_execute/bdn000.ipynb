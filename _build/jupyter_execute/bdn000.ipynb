{
 "cells": [
  {
   "cell_type": "markdown",
   "metadata": {},
   "source": [
    "[2011](bdn2011.ipynb)    \n",
    "[2012](bdn2012.ipynb)  \n",
    "[2013](bdn2013.ipynb)  \n",
    "[2014](bdn2014.ipynb)  \n",
    "[2015](bdn2015.ipynb)  \n",
    "[2016](bdn2016.ipynb)  \n",
    "[2017](bdn2017.ipynb)  \n",
    "[2018](bdn2018.ipynb)  \n",
    "[2019](bdn2019.ipynb)   \n",
    "[2020](bdn2020.ipynb)  \n",
    "[2021](bdn2021.ipynb)      \n",
    "[2022](bdn2022.ipynb)  \n",
    "[2023](bdn2023.ipynb)    \n",
    "[2024](bdn2024.ipynb)    "
   ]
  }
 ],
 "metadata": {
  "language_info": {
   "codemirror_mode": {
    "name": "ipython",
    "version": 3
   },
   "file_extension": ".py",
   "mimetype": "text/x-python",
   "name": "python",
   "nbconvert_exporter": "python",
   "pygments_lexer": "ipython3",
   "version": "3.11.2"
  }
 },
 "nbformat": 4,
 "nbformat_minor": 2
}